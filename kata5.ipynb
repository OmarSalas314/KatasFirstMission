{
 "cells": [
  {
   "cell_type": "code",
   "execution_count": null,
   "metadata": {},
   "outputs": [],
   "source": [
    "# Crear variables para almacenar las dos distancias\n",
    "# ¡Asegúrate de quitar las comas!\n",
    "\n",
    "Tierra = 149597870\n",
    "Jupiter = 778547200\n",
    "\n",
    "# Calcular la distancia entre planetas\n",
    "\n",
    "dist_plan= (Jupiter - Tierra) \n",
    "print(dist_plan)\n",
    "dist_plan_mill= int(dist_plan * 0.621)\n",
    "print(dist_plan_mill)\n"
   ]
  },
  {
   "cell_type": "markdown",
   "metadata": {},
   "source": [
    "Ejercicio 2"
   ]
  },
  {
   "cell_type": "code",
   "execution_count": 6,
   "metadata": {},
   "outputs": [
    {
     "name": "stdout",
     "output_type": "stream",
     "text": [
      "31236300.0\n"
     ]
    }
   ],
   "source": [
    "# Almacenar las entradas del usuario\n",
    "#Pista: variable = input(\"¿Cuál es tu nombre?\")\n",
    "\n",
    "#dist_plan1 = input(\"Ingrese la distancia al sol del primer planeta\")\n",
    "#dist_plan2 = input(\"Ingrese la distancia al sol del segundo planeta\")\n",
    "\n",
    "# Convierte las cadenas de ambos planetas a números enteros\n",
    "dist_plan1 = int(input(\"Ingrese la distancia al sol del primer planeta\"))\n",
    "dist_plan2 = int(input(\"Ingrese la distancia al sol del segundo planeta\"))\n",
    "\n",
    "\n",
    "# Realizar el cálculo y determinar el valor absoluto\n",
    "calculo = abs (dist_plan1 - dist_plan2)\n",
    "\n",
    "# Convertir de KM a Millas\n",
    "conversion = calculo * 0.621 \n",
    "print(conversion)"
   ]
  }
 ],
 "metadata": {
  "interpreter": {
   "hash": "1029919601fbe90b0f65c4d9e971e21230942ef431d43efa947681b4fab6e325"
  },
  "kernelspec": {
   "display_name": "Python 3.9.10 64-bit (windows store)",
   "language": "python",
   "name": "python3"
  },
  "language_info": {
   "codemirror_mode": {
    "name": "ipython",
    "version": 3
   },
   "file_extension": ".py",
   "mimetype": "text/x-python",
   "name": "python",
   "nbconvert_exporter": "python",
   "pygments_lexer": "ipython3",
   "version": "3.9.10"
  },
  "orig_nbformat": 4
 },
 "nbformat": 4,
 "nbformat_minor": 2
}
