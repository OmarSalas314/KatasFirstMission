{
 "cells": [
  {
   "cell_type": "code",
   "execution_count": null,
   "metadata": {},
   "outputs": [],
   "source": [
    "v=49\n",
    "a=20\n",
    "if v >= a:\n",
    "    print (v) + print(\"Peligro de colision\")"
   ]
  },
  {
   "cell_type": "code",
   "execution_count": null,
   "metadata": {},
   "outputs": [],
   "source": [
    "v=19\n",
    "a=20\n",
    "if v >= a:\n",
    "    print(\"Alerta de colision de asteroide\")\n",
    "elif v < a:\n",
    "    print(\"Sin riego de colision\")\n",
    "else: \n",
    "    print (\"Busquen el rayo en el cielo\")"
   ]
  },
  {
   "cell_type": "code",
   "execution_count": null,
   "metadata": {},
   "outputs": [],
   "source": [
    "# Agrega el código para crear nuevas variables para la velocidad y el tamaño del asteroide\n",
    "# Para probar el código, prueba con varias velocidades y tamaños\n",
    "# Escribe varias expresiones de prueba o combinaciones de expresiones de prueba para determinar qué mensaje se debe enviar a Tierra.\n",
    "\n",
    "vel_ast = 25\n",
    "t_a = 40\n",
    "if vel_ast > 25 and t_a > 25:\n",
    "    print('¡Alerta, Un asteroide muy peligroso viene hacia la Tierra!')\n",
    "elif vel_ast >=  20:\n",
    "    print('Cuidado hay una luz en el cielo')\n",
    "elif t_a < 20:\n",
    "    print('Sin riego')\n",
    "else:\n",
    "    print(\"Sin riesgo\")"
   ]
  }
 ],
 "metadata": {
  "interpreter": {
   "hash": "1029919601fbe90b0f65c4d9e971e21230942ef431d43efa947681b4fab6e325"
  },
  "kernelspec": {
   "display_name": "Python 3.9.10 64-bit (windows store)",
   "language": "python",
   "name": "python3"
  },
  "language_info": {
   "codemirror_mode": {
    "name": "ipython",
    "version": 3
   },
   "file_extension": ".py",
   "mimetype": "text/x-python",
   "name": "python",
   "nbconvert_exporter": "python",
   "pygments_lexer": "ipython3",
   "version": "3.9.10"
  },
  "orig_nbformat": 4
 },
 "nbformat": 4,
 "nbformat_minor": 2
}
